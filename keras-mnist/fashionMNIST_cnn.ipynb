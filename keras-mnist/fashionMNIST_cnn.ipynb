{
  "nbformat": 4,
  "nbformat_minor": 0,
  "metadata": {
    "colab": {
      "name": "fashionMNIST_cnn.ipynb",
      "version": "0.3.2",
      "provenance": [],
      "private_outputs": true,
      "include_colab_link": true
    },
    "kernelspec": {
      "name": "python3",
      "display_name": "Python 3"
    },
    "accelerator": "GPU"
  },
  "cells": [
    {
      "cell_type": "markdown",
      "metadata": {
        "id": "view-in-github",
        "colab_type": "text"
      },
      "source": [
        "<a href=\"https://colab.research.google.com/github/SaashaJoshi/keras-mnist-examples/blob/master/fashionMNIST_cnn.ipynb\" target=\"_parent\"><img src=\"https://colab.research.google.com/assets/colab-badge.svg\" alt=\"Open In Colab\"/></a>"
      ]
    },
    {
      "cell_type": "code",
      "metadata": {
        "id": "U5DxmddK-r4p",
        "colab_type": "code",
        "colab": {}
      },
      "source": [
        "import tensorflow as tf\n",
        "from tensorflow import keras\n",
        "import numpy as np\n",
        "import matplotlib.pyplot as plt"
      ],
      "execution_count": 0,
      "outputs": []
    },
    {
      "cell_type": "code",
      "metadata": {
        "id": "UPL0XY5O_M6u",
        "colab_type": "code",
        "colab": {}
      },
      "source": [
        "from keras.datasets import fashion_mnist\n",
        "(train_images, train_labels), (test_images, test_labels)=fashion_mnist.load_data()"
      ],
      "execution_count": 0,
      "outputs": []
    },
    {
      "cell_type": "code",
      "metadata": {
        "id": "uCs2JNQ9ZEbT",
        "colab_type": "code",
        "colab": {}
      },
      "source": [
        "plt.imshow(test_images[1])"
      ],
      "execution_count": 0,
      "outputs": []
    },
    {
      "cell_type": "code",
      "metadata": {
        "id": "tCr-XrLI_aLw",
        "colab_type": "code",
        "colab": {}
      },
      "source": [
        "#Normalizing Dataset\n",
        "train_images=train_images.astype('float32')/255\n",
        "test_images=test_images.astype('float32')/255"
      ],
      "execution_count": 0,
      "outputs": []
    },
    {
      "cell_type": "code",
      "metadata": {
        "id": "nxqT_yh8AXTZ",
        "colab_type": "code",
        "colab": {}
      },
      "source": [
        "model=keras.Sequential([\n",
        "    keras.layers.Conv2D(32, (3, 3), padding='same', activation=tf.nn.relu, input_shape=(28, 28, 1)), \n",
        "    keras.layers.MaxPooling2D((2, 2), strides=2), \n",
        "    keras.layers.Conv2D(64, (3, 3), padding='same', activation=tf.nn.relu), \n",
        "    keras.layers.MaxPooling2D((2, 2), strides=2), \n",
        "    keras.layers.Flatten(), \n",
        "    keras.layers.Dense(128, activation=tf.nn.relu), \n",
        "    keras.layers.Dense(10, activation=tf.nn.softmax)\n",
        "])"
      ],
      "execution_count": 0,
      "outputs": []
    },
    {
      "cell_type": "code",
      "metadata": {
        "id": "oVr6rEd9C8bs",
        "colab_type": "code",
        "colab": {}
      },
      "source": [
        "model.compile(loss='sparse_categorical_crossentropy', \n",
        "              optimizer='adam', \n",
        "              metrics=['accuracy'])"
      ],
      "execution_count": 0,
      "outputs": []
    },
    {
      "cell_type": "code",
      "metadata": {
        "id": "ElucdHV8DfWd",
        "colab_type": "code",
        "colab": {}
      },
      "source": [
        "train_images=train_images.reshape([-1, 28, 28, 1])\n",
        "test_images=test_images.reshape([-1, 28, 28, 1])\n",
        "model.fit(train_images, train_labels, epochs=5, batch_size=64)"
      ],
      "execution_count": 0,
      "outputs": []
    },
    {
      "cell_type": "code",
      "metadata": {
        "id": "v7RR0uGXEApc",
        "colab_type": "code",
        "colab": {}
      },
      "source": [
        "test_loss, test_accuracy=model.evaluate(test_images, test_labels)\n",
        "print('Loss:', test_loss)\n",
        "print('Accuracy:', test_accuracy)"
      ],
      "execution_count": 0,
      "outputs": []
    },
    {
      "cell_type": "code",
      "metadata": {
        "id": "_dmbHFnRYMFa",
        "colab_type": "code",
        "colab": {}
      },
      "source": [
        "predictions=model.predict(test_images)"
      ],
      "execution_count": 0,
      "outputs": []
    },
    {
      "cell_type": "code",
      "metadata": {
        "id": "aXFkphzHYPQm",
        "colab_type": "code",
        "colab": {}
      },
      "source": [
        "predictions[1]"
      ],
      "execution_count": 0,
      "outputs": []
    },
    {
      "cell_type": "code",
      "metadata": {
        "id": "6NYv4QcpYRlv",
        "colab_type": "code",
        "colab": {}
      },
      "source": [
        "np.argmax(predictions[1])"
      ],
      "execution_count": 0,
      "outputs": []
    },
    {
      "cell_type": "code",
      "metadata": {
        "id": "wqPd3riDYVa7",
        "colab_type": "code",
        "colab": {}
      },
      "source": [
        "test_labels[1]"
      ],
      "execution_count": 0,
      "outputs": []
    }
  ]
}