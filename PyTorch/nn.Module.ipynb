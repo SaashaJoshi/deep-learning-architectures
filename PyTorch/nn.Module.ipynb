{
  "nbformat": 4,
  "nbformat_minor": 0,
  "metadata": {
    "colab": {
      "name": "nn.Module.ipynb",
      "provenance": [],
      "collapsed_sections": [],
      "authorship_tag": "ABX9TyN7CkaTjHxsDfe+2r1gml+y",
      "include_colab_link": true
    },
    "kernelspec": {
      "name": "python3",
      "display_name": "Python 3"
    }
  },
  "cells": [
    {
      "cell_type": "markdown",
      "metadata": {
        "id": "view-in-github",
        "colab_type": "text"
      },
      "source": [
        "<a href=\"https://colab.research.google.com/github/SaashaJoshi/tf-keras-pytorch-examples/blob/master/PyTorch/nn.Module.ipynb\" target=\"_parent\"><img src=\"https://colab.research.google.com/assets/colab-badge.svg\" alt=\"Open In Colab\"/></a>"
      ]
    },
    {
      "cell_type": "code",
      "metadata": {
        "id": "o-tAOv5DO52C",
        "colab_type": "code",
        "colab": {}
      },
      "source": [
        "import torch\n",
        "import numpy as np\n",
        "import matplotlib.pyplot as plt\n",
        "from torch import nn\n",
        "import torch.nn.functional as F"
      ],
      "execution_count": null,
      "outputs": []
    },
    {
      "cell_type": "code",
      "metadata": {
        "id": "3VeZ5grHC_PJ",
        "colab_type": "code",
        "colab": {
          "base_uri": "https://localhost:8080/",
          "height": 204
        },
        "outputId": "c9299482-1b86-4543-817a-d82c7d62530c"
      },
      "source": [
        "!wget https://raw.githubusercontent.com/udacity/deep-learning-v2-pytorch/3bd7dea850e936d8cb44adda8200e4e2b5d627e3/intro-to-pytorch/helper.py"
      ],
      "execution_count": null,
      "outputs": [
        {
          "output_type": "stream",
          "text": [
            "--2020-06-20 14:05:39--  https://raw.githubusercontent.com/udacity/deep-learning-v2-pytorch/3bd7dea850e936d8cb44adda8200e4e2b5d627e3/intro-to-pytorch/helper.py\n",
            "Resolving raw.githubusercontent.com (raw.githubusercontent.com)... 151.101.0.133, 151.101.64.133, 151.101.128.133, ...\n",
            "Connecting to raw.githubusercontent.com (raw.githubusercontent.com)|151.101.0.133|:443... connected.\n",
            "HTTP request sent, awaiting response... 200 OK\n",
            "Length: 2813 (2.7K) [text/plain]\n",
            "Saving to: ‘helper.py.1’\n",
            "\n",
            "\rhelper.py.1           0%[                    ]       0  --.-KB/s               \rhelper.py.1         100%[===================>]   2.75K  --.-KB/s    in 0s      \n",
            "\n",
            "2020-06-20 14:05:39 (35.9 MB/s) - ‘helper.py.1’ saved [2813/2813]\n",
            "\n"
          ],
          "name": "stdout"
        }
      ]
    },
    {
      "cell_type": "code",
      "metadata": {
        "id": "cu9pkzZN93wu",
        "colab_type": "code",
        "colab": {}
      },
      "source": [
        "# Load data\n",
        "from torchvision import datasets, transforms\n",
        "\n",
        "transform = transforms.Compose([transforms.ToTensor(),\n",
        "                              transforms.Normalize((0.5,), (0.5,)),\n",
        "                              ])\n",
        "\n",
        "trainset = datasets.MNIST('~/.pytorch/MNIST_data/', download=True, train=True, transform=transform)\n",
        "trainloader = torch.utils.data.DataLoader(trainset, batch_size=64, shuffle=True)"
      ],
      "execution_count": null,
      "outputs": []
    },
    {
      "cell_type": "code",
      "metadata": {
        "id": "L1g5cdeAPIgZ",
        "colab_type": "code",
        "colab": {}
      },
      "source": [
        "class Network(nn.Module):   # Subclass the class Network from nn.Module\n",
        "  def __init__(self):\n",
        "    super().__init__()      # Check use!\n",
        "\n",
        "    self.hidden = nn.Linear(784, 256)   # Linear Transformation: (w.x + b)\n",
        "    self.output = nn.Linear(256, 10)\n",
        "\n",
        "    self.sigmoid = nn.Sigmoid()\n",
        "    self.softmax = nn.Softmax(dim = 1)\n",
        "\n",
        "  def forward(self, x):\n",
        "    x = self.hidden(x)\n",
        "    x = self.sigmoid(x)\n",
        "    x = self.output(x)\n",
        "    x = self.softmax(x)\n",
        "    return x "
      ],
      "execution_count": null,
      "outputs": []
    },
    {
      "cell_type": "code",
      "metadata": {
        "id": "ch9RLAicP-AK",
        "colab_type": "code",
        "colab": {
          "base_uri": "https://localhost:8080/",
          "height": 119
        },
        "outputId": "35ece63d-a4a0-4bcf-a679-f4201e419503"
      },
      "source": [
        "model = Network()\n",
        "model"
      ],
      "execution_count": null,
      "outputs": [
        {
          "output_type": "execute_result",
          "data": {
            "text/plain": [
              "Network(\n",
              "  (hidden): Linear(in_features=784, out_features=256, bias=True)\n",
              "  (output): Linear(in_features=256, out_features=10, bias=True)\n",
              "  (sigmoid): Sigmoid()\n",
              "  (softmax): Softmax(dim=1)\n",
              ")"
            ]
          },
          "metadata": {
            "tags": []
          },
          "execution_count": 6
        }
      ]
    },
    {
      "cell_type": "code",
      "metadata": {
        "id": "EBnuA-b5QIBy",
        "colab_type": "code",
        "colab": {}
      },
      "source": [
        "# Or use activation 'functions' instead of activation 'modules'.\n",
        "import torch.nn.functional as F\n",
        "\n",
        "class Network(nn.Module):\n",
        "  def __init__(self):\n",
        "    super().__init__()\n",
        "    self.hidden = nn.Linear(786, 256)\n",
        "    self.output = nn.Linear(256, 10)\n",
        "\n",
        "  def forward(self, x):\n",
        "    x = F.sigmoid(self.hidden(x))   # Functional definition\n",
        "    x = F.softmax(slef.output(x))\n",
        "    return x"
      ],
      "execution_count": null,
      "outputs": []
    },
    {
      "cell_type": "code",
      "metadata": {
        "id": "mY9hJ9y1QJyu",
        "colab_type": "code",
        "colab": {
          "base_uri": "https://localhost:8080/",
          "height": 85
        },
        "outputId": "0e848868-570c-4f20-fb88-2ee0978a5203"
      },
      "source": [
        "model = Network()\n",
        "model"
      ],
      "execution_count": null,
      "outputs": [
        {
          "output_type": "execute_result",
          "data": {
            "text/plain": [
              "Network(\n",
              "  (hidden): Linear(in_features=786, out_features=256, bias=True)\n",
              "  (output): Linear(in_features=256, out_features=10, bias=True)\n",
              ")"
            ]
          },
          "metadata": {
            "tags": []
          },
          "execution_count": 8
        }
      ]
    },
    {
      "cell_type": "code",
      "metadata": {
        "id": "4_nK4TlERzNg",
        "colab_type": "code",
        "colab": {
          "base_uri": "https://localhost:8080/",
          "height": 102
        },
        "outputId": "6dc7fdf5-b8d4-425a-b17e-9ec62d2589dd"
      },
      "source": [
        "class NNetwork(nn.Module):\n",
        "  def __init__(self):\n",
        "    super().__init__()\n",
        "\n",
        "    self.fc1 = nn.Linear(784, 128)\n",
        "    self.fc2 = nn.Linear(128, 64)\n",
        "    self.fc3 = nn.Linear(64, 10)\n",
        "\n",
        "  def forward(self, x):\n",
        "    x = self.fc1(x)\n",
        "    x = F.relu(x)\n",
        "    x = self.fc2(x)\n",
        "    x = F.relu(x)\n",
        "    x = self.fc3(x)\n",
        "    x = F.softmax(x)\n",
        "    return x\n",
        "\n",
        "model = NNetwork()\n",
        "model"
      ],
      "execution_count": null,
      "outputs": [
        {
          "output_type": "execute_result",
          "data": {
            "text/plain": [
              "NNetwork(\n",
              "  (fc1): Linear(in_features=784, out_features=128, bias=True)\n",
              "  (fc2): Linear(in_features=128, out_features=64, bias=True)\n",
              "  (fc3): Linear(in_features=64, out_features=10, bias=True)\n",
              ")"
            ]
          },
          "metadata": {
            "tags": []
          },
          "execution_count": 4
        }
      ]
    },
    {
      "cell_type": "code",
      "metadata": {
        "id": "Z8BxHtWa8ptV",
        "colab_type": "code",
        "colab": {
          "base_uri": "https://localhost:8080/",
          "height": 476
        },
        "outputId": "12a88738-ad44-4c3e-d547-8375dda7b43f"
      },
      "source": [
        "print(model.fc1.weight)\n",
        "print(model.fc1.bias)"
      ],
      "execution_count": null,
      "outputs": [
        {
          "output_type": "stream",
          "text": [
            "Parameter containing:\n",
            "tensor([[ 0.0014,  0.0124,  0.0127,  ...,  0.0208,  0.0083,  0.0257],\n",
            "        [-0.0330,  0.0254,  0.0258,  ..., -0.0178,  0.0004,  0.0354],\n",
            "        [-0.0027,  0.0263,  0.0060,  ..., -0.0203,  0.0029,  0.0262],\n",
            "        ...,\n",
            "        [ 0.0237,  0.0244, -0.0131,  ...,  0.0095,  0.0313,  0.0338],\n",
            "        [-0.0037, -0.0220,  0.0300,  ..., -0.0232,  0.0029, -0.0255],\n",
            "        [-0.0138,  0.0173, -0.0044,  ...,  0.0200, -0.0146,  0.0045]],\n",
            "       requires_grad=True)\n",
            "Parameter containing:\n",
            "tensor([ 0.0228,  0.0264,  0.0183,  0.0150, -0.0041,  0.0059, -0.0125,  0.0178,\n",
            "        -0.0186,  0.0203, -0.0159,  0.0097,  0.0230, -0.0122, -0.0200,  0.0245,\n",
            "         0.0017, -0.0190,  0.0117,  0.0034,  0.0278,  0.0243, -0.0320, -0.0310,\n",
            "        -0.0228, -0.0225, -0.0088,  0.0013, -0.0211,  0.0041, -0.0207, -0.0229,\n",
            "         0.0279, -0.0235, -0.0300, -0.0242,  0.0162, -0.0194, -0.0110, -0.0307,\n",
            "         0.0138,  0.0136, -0.0108,  0.0236, -0.0334,  0.0093,  0.0154,  0.0216,\n",
            "        -0.0212, -0.0123,  0.0049, -0.0314, -0.0332, -0.0056,  0.0112, -0.0046,\n",
            "         0.0343, -0.0087, -0.0092,  0.0181, -0.0300, -0.0279,  0.0025, -0.0202,\n",
            "        -0.0226,  0.0089, -0.0204, -0.0072, -0.0279, -0.0035, -0.0357,  0.0122,\n",
            "         0.0105,  0.0322, -0.0071,  0.0072,  0.0118, -0.0212, -0.0323,  0.0013,\n",
            "        -0.0122,  0.0189, -0.0126, -0.0009, -0.0203, -0.0320,  0.0240,  0.0290,\n",
            "         0.0130,  0.0028,  0.0275,  0.0285, -0.0006, -0.0254, -0.0333,  0.0291,\n",
            "        -0.0288,  0.0031,  0.0267,  0.0288,  0.0337,  0.0169,  0.0143,  0.0092,\n",
            "        -0.0048, -0.0336, -0.0336, -0.0049, -0.0018,  0.0353,  0.0154, -0.0151,\n",
            "         0.0306,  0.0085, -0.0182,  0.0219, -0.0146,  0.0227, -0.0251, -0.0262,\n",
            "         0.0350,  0.0179, -0.0204, -0.0017, -0.0298,  0.0298,  0.0179, -0.0175],\n",
            "       requires_grad=True)\n"
          ],
          "name": "stdout"
        }
      ]
    },
    {
      "cell_type": "code",
      "metadata": {
        "id": "jtUC77NFAgm9",
        "colab_type": "code",
        "colab": {
          "base_uri": "https://localhost:8080/",
          "height": 34
        },
        "outputId": "065faa75-77e0-496e-cd12-4e8c8b2e6efb"
      },
      "source": [
        "data = iter(trainloader)\n",
        "images, labels = data.next()\n",
        "inputs = images.view(images.shape[0], 1, -1)    # inputs: (batch_size, n_channel, flatten_dimension) = (64, 1, 784)\n",
        "print(inputs.shape)"
      ],
      "execution_count": null,
      "outputs": [
        {
          "output_type": "stream",
          "text": [
            "torch.Size([64, 1, 784])\n"
          ],
          "name": "stdout"
        }
      ]
    },
    {
      "cell_type": "code",
      "metadata": {
        "id": "UeJfZgDH-2dS",
        "colab_type": "code",
        "colab": {
          "base_uri": "https://localhost:8080/",
          "height": 287
        },
        "outputId": "8b3254b3-5f9e-4f22-a061-21563967306e"
      },
      "source": [
        "import helper   # from Udacity notebooks for the bar plot.\n",
        "\n",
        "# Forward Pass\n",
        "forward_pass = model.forward(inputs[0, :])    # Calling the forward function from Network class: forward(self, x) = forward(inputs[0:])\n",
        "# x = inputs[0, :] i.e. all the images (:) of the first batch (0)\n",
        "# inputs[0, :] = inputs[batch_number, images_number]\n",
        "\n",
        "img = inputs[0]\n",
        "helper.view_classify(img.view(1, 28, 28), forward_pass)"
      ],
      "execution_count": null,
      "outputs": [
        {
          "output_type": "stream",
          "text": [
            "/usr/local/lib/python3.6/dist-packages/ipykernel_launcher.py:15: UserWarning: Implicit dimension choice for softmax has been deprecated. Change the call to include dim=X as an argument.\n",
            "  from ipykernel import kernelapp as app\n"
          ],
          "name": "stderr"
        },
        {
          "output_type": "display_data",
          "data": {
            "image/png": "[encoded data removed]",
            "text/plain": [
              "<Figure size 432x648 with 2 Axes>"
            ]
          },
          "metadata": {
            "tags": [],
            "needs_background": "light"
          }
        }
      ]
    },
    {
      "cell_type": "code",
      "metadata": {
        "id": "hUGNHPTD8qL2",
        "colab_type": "code",
        "colab": {
          "base_uri": "https://localhost:8080/",
          "height": 153
        },
        "outputId": "fc113510-7eff-4546-9c5a-ca83fd885172"
      },
      "source": [
        "# Using nn.Sequential to build a neural network instead of using classes.\n",
        "input_size = 784\n",
        "hidden_sizes = [128, 64]\n",
        "output_size = 10\n",
        "\n",
        "model_2 = nn.Sequential(nn.Linear(input_size, hidden_sizes[0]), \n",
        "                      nn.ReLU(), \n",
        "                      nn.Linear(hidden_sizes[0], hidden_sizes[1]), \n",
        "                      nn.ReLU(), \n",
        "                      nn.Linear(hidden_sizes[1], output_size), \n",
        "                      nn.Softmax(dim = 1))\n",
        "\n",
        "print(model_2)"
      ],
      "execution_count": null,
      "outputs": [
        {
          "output_type": "stream",
          "text": [
            "Sequential(\n",
            "  (0): Linear(in_features=784, out_features=128, bias=True)\n",
            "  (1): ReLU()\n",
            "  (2): Linear(in_features=128, out_features=64, bias=True)\n",
            "  (3): ReLU()\n",
            "  (4): Linear(in_features=64, out_features=10, bias=True)\n",
            "  (5): Softmax(dim=1)\n",
            ")\n"
          ],
          "name": "stdout"
        }
      ]
    },
    {
      "cell_type": "code",
      "metadata": {
        "id": "Nbt_QpNp_8wm",
        "colab_type": "code",
        "colab": {
          "base_uri": "https://localhost:8080/",
          "height": 153
        },
        "outputId": "94d1dc4c-add0-4775-94c2-38fdea84226d"
      },
      "source": [
        "# Using OrderedDict\n",
        "from collections import OrderedDict\n",
        "\n",
        "input_size = 784\n",
        "hidden_sizes = [128, 64]\n",
        "output_size = 10\n",
        "\n",
        "model_3 = nn.Sequential(OrderedDict([\n",
        "                                     ('fc1', nn.Linear(input_size, hidden_sizes[0])), \n",
        "                                     ('relu1', nn.ReLU()), \n",
        "                                     ('fc2', nn.Linear(hidden_sizes[0], hidden_sizes[1])), \n",
        "                                     ('relu2', nn.ReLU()), \n",
        "                                     ('fc3', nn.Linear(hidden_sizes[1], output_size)), \n",
        "                                     ('softmax', nn.Softmax(dim = 1))]))\n",
        "\n",
        "print(model_3)"
      ],
      "execution_count": null,
      "outputs": [
        {
          "output_type": "stream",
          "text": [
            "Sequential(\n",
            "  (fc1): Linear(in_features=784, out_features=128, bias=True)\n",
            "  (relu1): ReLU()\n",
            "  (fc2): Linear(in_features=128, out_features=64, bias=True)\n",
            "  (relu2): ReLU()\n",
            "  (fc3): Linear(in_features=64, out_features=10, bias=True)\n",
            "  (softmax): Softmax(dim=1)\n",
            ")\n"
          ],
          "name": "stdout"
        }
      ]
    },
    {
      "cell_type": "code",
      "metadata": {
        "id": "kmJRlnTfDrXC",
        "colab_type": "code",
        "colab": {
          "base_uri": "https://localhost:8080/",
          "height": 51
        },
        "outputId": "1ef2802f-7fa1-4923-a42d-5e260c405362"
      },
      "source": [
        "print(model_2[4])\n",
        "print(model_3.fc3)"
      ],
      "execution_count": null,
      "outputs": [
        {
          "output_type": "stream",
          "text": [
            "Linear(in_features=64, out_features=10, bias=True)\n",
            "Linear(in_features=64, out_features=10, bias=True)\n"
          ],
          "name": "stdout"
        }
      ]
    },
    {
      "cell_type": "code",
      "metadata": {
        "id": "gQH7kwI_EgKQ",
        "colab_type": "code",
        "colab": {}
      },
      "source": [
        ""
      ],
      "execution_count": null,
      "outputs": []
    }
  ]
}