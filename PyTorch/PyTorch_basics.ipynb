{
  "nbformat": 4,
  "nbformat_minor": 0,
  "metadata": {
    "colab": {
      "name": "PyTorch_basics.ipynb",
      "provenance": [],
      "collapsed_sections": [],
      "authorship_tag": "ABX9TyPowHVh9fDf5ghepLd8+wXU",
      "include_colab_link": true
    },
    "kernelspec": {
      "name": "python3",
      "display_name": "Python 3"
    }
  },
  "cells": [
    {
      "cell_type": "markdown",
      "metadata": {
        "id": "view-in-github",
        "colab_type": "text"
      },
      "source": [
        "<a href=\"https://colab.research.google.com/github/SaashaJoshi/tf-keras-pytorch-examples/blob/master/PyTorch_basics.ipynb\" target=\"_parent\"><img src=\"https://colab.research.google.com/assets/colab-badge.svg\" alt=\"Open In Colab\"/></a>"
      ]
    },
    {
      "cell_type": "code",
      "metadata": {
        "id": "ntlp7IsSKm0y",
        "colab_type": "code",
        "colab": {}
      },
      "source": [
        "import torch"
      ],
      "execution_count": null,
      "outputs": []
    },
    {
      "cell_type": "code",
      "metadata": {
        "id": "5aTqP-zDKtRj",
        "colab_type": "code",
        "colab": {
          "base_uri": "https://localhost:8080/",
          "height": 102
        },
        "outputId": "c5c625c1-4e77-4795-a7b1-d1c9d6f0307e"
      },
      "source": [
        "# Uninitialized Matrix\n",
        "x = torch.empty(5, 3)     # Contains values present in memory at that time.\n",
        "print(x)"
      ],
      "execution_count": null,
      "outputs": [
        {
          "output_type": "stream",
          "text": [
            "tensor([[1.0661e-35, 0.0000e+00, 3.3631e-44],\n",
            "        [0.0000e+00,        nan, 6.1657e-44],\n",
            "        [1.1578e+27, 1.1362e+30, 7.1547e+22],\n",
            "        [4.5828e+30, 1.2121e+04, 7.1846e+22],\n",
            "        [9.2198e-39, 7.0374e+22, 0.0000e+00]])\n"
          ],
          "name": "stdout"
        }
      ]
    },
    {
      "cell_type": "code",
      "metadata": {
        "id": "W5hjgmB9K6ta",
        "colab_type": "code",
        "colab": {
          "base_uri": "https://localhost:8080/",
          "height": 102
        },
        "outputId": "6ffdba70-4493-46df-a5bf-1669d98b6d78"
      },
      "source": [
        "# Randomly initialized Matrix\n",
        "x = torch.rand(5, 3)\n",
        "print(x)"
      ],
      "execution_count": null,
      "outputs": [
        {
          "output_type": "stream",
          "text": [
            "tensor([[0.3021, 0.1789, 0.5142],\n",
            "        [0.2367, 0.2167, 0.2298],\n",
            "        [0.8358, 0.1300, 0.4801],\n",
            "        [0.8706, 0.5673, 0.2947],\n",
            "        [0.0607, 0.1819, 0.7863]])\n"
          ],
          "name": "stdout"
        }
      ]
    },
    {
      "cell_type": "code",
      "metadata": {
        "id": "vDJo3DVNLIFq",
        "colab_type": "code",
        "colab": {
          "base_uri": "https://localhost:8080/",
          "height": 102
        },
        "outputId": "734b496c-0434-41ab-e449-2bdf60315c7e"
      },
      "source": [
        "# Zero matrix with dtype = long\n",
        "x = torch.zeros(5, 3, dtype = torch.long)\n",
        "print(x)"
      ],
      "execution_count": null,
      "outputs": [
        {
          "output_type": "stream",
          "text": [
            "tensor([[0, 0, 0],\n",
            "        [0, 0, 0],\n",
            "        [0, 0, 0],\n",
            "        [0, 0, 0],\n",
            "        [0, 0, 0]])\n"
          ],
          "name": "stdout"
        }
      ]
    },
    {
      "cell_type": "code",
      "metadata": {
        "id": "EeC43BvxLVCo",
        "colab_type": "code",
        "colab": {
          "base_uri": "https://localhost:8080/",
          "height": 102
        },
        "outputId": "8935ba44-7d3d-4efb-c690-b2b78ce44c2a"
      },
      "source": [
        "x = torch.empty(5, 3, dtype = torch.long)     # dtype = long\n",
        "print(x)"
      ],
      "execution_count": null,
      "outputs": [
        {
          "output_type": "stream",
          "text": [
            "tensor([[    89659776, 206158430258, 206158430253],\n",
            "        [193273528374, 223338299441, 210453397588],\n",
            "        [249108103220, 219043332145, 223338299450],\n",
            "        [197568495672, 210453397552, 227633266745],\n",
            "        [210453397555, 493921239130, 176093659177]])\n"
          ],
          "name": "stdout"
        }
      ]
    },
    {
      "cell_type": "code",
      "metadata": {
        "id": "SeGrC7ixLdyz",
        "colab_type": "code",
        "colab": {
          "base_uri": "https://localhost:8080/",
          "height": 51
        },
        "outputId": "26e7aedd-c700-4f9b-f9c3-65a964be701b"
      },
      "source": [
        "# Tensor directly from data\n",
        "x = torch.tensor([6, 7])\n",
        "print(x)\n",
        "print(x.size())"
      ],
      "execution_count": null,
      "outputs": [
        {
          "output_type": "stream",
          "text": [
            "tensor([6, 7])\n",
            "torch.Size([2])\n"
          ],
          "name": "stdout"
        }
      ]
    },
    {
      "cell_type": "code",
      "metadata": {
        "id": "-188d7hlLo0-",
        "colab_type": "code",
        "colab": {
          "base_uri": "https://localhost:8080/",
          "height": 102
        },
        "outputId": "dd798779-ba7e-4f41-dcaf-6b6dc0bb6bec"
      },
      "source": [
        "# Ones tensor\n",
        "x = torch.ones(5, 3, dtype = torch.double)\n",
        "print(x)"
      ],
      "execution_count": null,
      "outputs": [
        {
          "output_type": "stream",
          "text": [
            "tensor([[1., 1., 1.],\n",
            "        [1., 1., 1.],\n",
            "        [1., 1., 1.],\n",
            "        [1., 1., 1.],\n",
            "        [1., 1., 1.]], dtype=torch.float64)\n"
          ],
          "name": "stdout"
        }
      ]
    },
    {
      "cell_type": "code",
      "metadata": {
        "id": "tdjS_KHxL6i9",
        "colab_type": "code",
        "colab": {
          "base_uri": "https://localhost:8080/",
          "height": 187
        },
        "outputId": "e302a8a7-0e64-4ecc-a9ee-acccde690d66"
      },
      "source": [
        "# Create tensor form an existing tensor\n",
        "x = x.new_ones(5, 3, dtype = torch.double)\n",
        "print(x)\n",
        "\n",
        "# Override dtype, size remains same (5, 3)\n",
        "x = torch.randn_like(x, dtype = torch.float)\n",
        "print(x)"
      ],
      "execution_count": null,
      "outputs": [
        {
          "output_type": "stream",
          "text": [
            "tensor([[1., 1., 1.],\n",
            "        [1., 1., 1.],\n",
            "        [1., 1., 1.],\n",
            "        [1., 1., 1.],\n",
            "        [1., 1., 1.]], dtype=torch.float64)\n",
            "tensor([[ 2.7348, -0.6893, -1.1803],\n",
            "        [ 0.2229,  0.7663,  1.3477],\n",
            "        [-0.1324,  0.1565,  0.4190],\n",
            "        [ 1.1139,  0.8697,  0.6361],\n",
            "        [ 0.2051, -0.0085,  0.3909]])\n"
          ],
          "name": "stdout"
        }
      ]
    },
    {
      "cell_type": "code",
      "metadata": {
        "id": "4bJCPfreMMP9",
        "colab_type": "code",
        "colab": {
          "base_uri": "https://localhost:8080/",
          "height": 34
        },
        "outputId": "088ea527-7473-40ff-a986-466812fc0a58"
      },
      "source": [
        "# Get size\n",
        "print(x.size())"
      ],
      "execution_count": null,
      "outputs": [
        {
          "output_type": "stream",
          "text": [
            "torch.Size([5, 3])\n"
          ],
          "name": "stdout"
        }
      ]
    },
    {
      "cell_type": "code",
      "metadata": {
        "id": "qNPyGOkRMnaO",
        "colab_type": "code",
        "colab": {
          "base_uri": "https://localhost:8080/",
          "height": 357
        },
        "outputId": "69100c81-b671-4fcb-cfca-62dd8dd3ccfe"
      },
      "source": [
        "# Addition\n",
        "x = torch.rand(5, 3)\n",
        "y = torch.rand(5, 3)\n",
        "\n",
        "print(x)\n",
        "print(y)\n",
        "\n",
        "print(x + y)\n",
        "print(torch.add(x, y))    # Alternative syntax "
      ],
      "execution_count": null,
      "outputs": [
        {
          "output_type": "stream",
          "text": [
            "tensor([[0.9084, 0.4482, 0.0231],\n",
            "        [0.6727, 0.5643, 0.8350],\n",
            "        [0.0378, 0.5967, 0.5468],\n",
            "        [0.7319, 0.0875, 0.4767],\n",
            "        [0.9016, 0.3127, 0.9319]])\n",
            "tensor([[0.8312, 0.5289, 0.1373],\n",
            "        [0.2709, 0.8023, 0.2702],\n",
            "        [0.2893, 0.5841, 0.5363],\n",
            "        [0.4745, 0.0983, 0.4955],\n",
            "        [0.9867, 0.8178, 0.0484]])\n",
            "tensor([[1.7395, 0.9770, 0.1604],\n",
            "        [0.9436, 1.3666, 1.1052],\n",
            "        [0.3271, 1.1808, 1.0831],\n",
            "        [1.2064, 0.1858, 0.9723],\n",
            "        [1.8883, 1.1305, 0.9803]])\n",
            "tensor([[1.7395, 0.9770, 0.1604],\n",
            "        [0.9436, 1.3666, 1.1052],\n",
            "        [0.3271, 1.1808, 1.0831],\n",
            "        [1.2064, 0.1858, 0.9723],\n",
            "        [1.8883, 1.1305, 0.9803]])\n"
          ],
          "name": "stdout"
        }
      ]
    },
    {
      "cell_type": "code",
      "metadata": {
        "id": "p0053bZbM_Om",
        "colab_type": "code",
        "colab": {
          "base_uri": "https://localhost:8080/",
          "height": 102
        },
        "outputId": "7e6ee9a7-80f7-4d6c-cc89-d99766ca995c"
      },
      "source": [
        "result = torch.empty(5, 3)\n",
        "torch.add(x, y, out = result)\n",
        "print(result)"
      ],
      "execution_count": null,
      "outputs": [
        {
          "output_type": "stream",
          "text": [
            "tensor([[1.7395, 0.9770, 0.1604],\n",
            "        [0.9436, 1.3666, 1.1052],\n",
            "        [0.3271, 1.1808, 1.0831],\n",
            "        [1.2064, 0.1858, 0.9723],\n",
            "        [1.8883, 1.1305, 0.9803]])\n"
          ],
          "name": "stdout"
        }
      ]
    },
    {
      "cell_type": "code",
      "metadata": {
        "id": "4Ct2ebzANZHe",
        "colab_type": "code",
        "colab": {
          "base_uri": "https://localhost:8080/",
          "height": 102
        },
        "outputId": "9032f920-5315-48d6-bb98-d8f5f68f5100"
      },
      "source": [
        "# In-place addition\n",
        "y.add_(x)\n",
        "print(y)      # Changes y\n",
        "# Operation which mutates a tensor in place is post-fixed with underscore(_) "
      ],
      "execution_count": null,
      "outputs": [
        {
          "output_type": "stream",
          "text": [
            "tensor([[1.7395, 0.9770, 0.1604],\n",
            "        [0.9436, 1.3666, 1.1052],\n",
            "        [0.3271, 1.1808, 1.0831],\n",
            "        [1.2064, 0.1858, 0.9723],\n",
            "        [1.8883, 1.1305, 0.9803]])\n"
          ],
          "name": "stdout"
        }
      ]
    },
    {
      "cell_type": "code",
      "metadata": {
        "id": "yOB6u24KNu4c",
        "colab_type": "code",
        "colab": {
          "base_uri": "https://localhost:8080/",
          "height": 102
        },
        "outputId": "e1701c5b-68db-4eb0-cef5-026877991366"
      },
      "source": [
        "print(y[:, :1])"
      ],
      "execution_count": null,
      "outputs": [
        {
          "output_type": "stream",
          "text": [
            "tensor([[1.7395],\n",
            "        [0.9436],\n",
            "        [0.3271],\n",
            "        [1.2064],\n",
            "        [1.8883]])\n"
          ],
          "name": "stdout"
        }
      ]
    },
    {
      "cell_type": "code",
      "metadata": {
        "id": "T040maJ_ORAd",
        "colab_type": "code",
        "colab": {}
      },
      "source": [
        "import numpy as np"
      ],
      "execution_count": null,
      "outputs": []
    },
    {
      "cell_type": "code",
      "metadata": {
        "id": "f8zVaTwXhAaB",
        "colab_type": "code",
        "colab": {
          "base_uri": "https://localhost:8080/",
          "height": 85
        },
        "outputId": "d802818d-7aeb-4ac3-fcf1-582b06b4911f"
      },
      "source": [
        "a = np.random.rand(4, 3)\n",
        "a"
      ],
      "execution_count": null,
      "outputs": [
        {
          "output_type": "execute_result",
          "data": {
            "text/plain": [
              "array([[0.42180366, 0.15652495, 0.67078758],\n",
              "       [0.69371059, 0.23374645, 0.00327953],\n",
              "       [0.96268285, 0.87849741, 0.2557813 ],\n",
              "       [0.97789144, 0.99785134, 0.40846873]])"
            ]
          },
          "metadata": {
            "tags": []
          },
          "execution_count": 4
        }
      ]
    },
    {
      "cell_type": "code",
      "metadata": {
        "id": "VdoRDXGGhEMU",
        "colab_type": "code",
        "colab": {
          "base_uri": "https://localhost:8080/",
          "height": 85
        },
        "outputId": "ce377272-17ee-4669-f3fd-de355f73225b"
      },
      "source": [
        "b = torch.from_numpy(a)\n",
        "b"
      ],
      "execution_count": null,
      "outputs": [
        {
          "output_type": "execute_result",
          "data": {
            "text/plain": [
              "tensor([[0.4218, 0.1565, 0.6708],\n",
              "        [0.6937, 0.2337, 0.0033],\n",
              "        [0.9627, 0.8785, 0.2558],\n",
              "        [0.9779, 0.9979, 0.4085]], dtype=torch.float64)"
            ]
          },
          "metadata": {
            "tags": []
          },
          "execution_count": 5
        }
      ]
    },
    {
      "cell_type": "code",
      "metadata": {
        "id": "nNFPau1ZhIuK",
        "colab_type": "code",
        "colab": {
          "base_uri": "https://localhost:8080/",
          "height": 85
        },
        "outputId": "fb288312-e499-4047-b1eb-6a79b2a9ba25"
      },
      "source": [
        "b.numpy()"
      ],
      "execution_count": null,
      "outputs": [
        {
          "output_type": "execute_result",
          "data": {
            "text/plain": [
              "array([[0.42180366, 0.15652495, 0.67078758],\n",
              "       [0.69371059, 0.23374645, 0.00327953],\n",
              "       [0.96268285, 0.87849741, 0.2557813 ],\n",
              "       [0.97789144, 0.99785134, 0.40846873]])"
            ]
          },
          "metadata": {
            "tags": []
          },
          "execution_count": 6
        }
      ]
    },
    {
      "cell_type": "code",
      "metadata": {
        "id": "QyWCyX4ChMQC",
        "colab_type": "code",
        "colab": {
          "base_uri": "https://localhost:8080/",
          "height": 85
        },
        "outputId": "be7b736a-b9b6-47db-ec0e-53acacd49672"
      },
      "source": [
        "b "
      ],
      "execution_count": null,
      "outputs": [
        {
          "output_type": "execute_result",
          "data": {
            "text/plain": [
              "tensor([[0.4218, 0.1565, 0.6708],\n",
              "        [0.6937, 0.2337, 0.0033],\n",
              "        [0.9627, 0.8785, 0.2558],\n",
              "        [0.9779, 0.9979, 0.4085]], dtype=torch.float64)"
            ]
          },
          "metadata": {
            "tags": []
          },
          "execution_count": 7
        }
      ]
    },
    {
      "cell_type": "code",
      "metadata": {
        "id": "ggqylS8ihY1S",
        "colab_type": "code",
        "colab": {
          "base_uri": "https://localhost:8080/",
          "height": 85
        },
        "outputId": "f8ef3d02-c884-4eb8-f4ed-f96ae7570a3d"
      },
      "source": [
        "# Memory is shared between numpy array (a) and tensor (b). Change in one will be reflected in other.\n",
        "b.mul_(2)\n",
        "b"
      ],
      "execution_count": null,
      "outputs": [
        {
          "output_type": "execute_result",
          "data": {
            "text/plain": [
              "tensor([[0.8436, 0.3130, 1.3416],\n",
              "        [1.3874, 0.4675, 0.0066],\n",
              "        [1.9254, 1.7570, 0.5116],\n",
              "        [1.9558, 1.9957, 0.8169]], dtype=torch.float64)"
            ]
          },
          "metadata": {
            "tags": []
          },
          "execution_count": 8
        }
      ]
    },
    {
      "cell_type": "code",
      "metadata": {
        "id": "4Ts6SSo1hmMo",
        "colab_type": "code",
        "colab": {
          "base_uri": "https://localhost:8080/",
          "height": 85
        },
        "outputId": "520631c1-4e74-4576-fd04-350f1fc0791d"
      },
      "source": [
        "a"
      ],
      "execution_count": null,
      "outputs": [
        {
          "output_type": "execute_result",
          "data": {
            "text/plain": [
              "array([[0.84360731, 0.31304991, 1.34157515],\n",
              "       [1.38742118, 0.46749291, 0.00655906],\n",
              "       [1.9253657 , 1.75699483, 0.51156259],\n",
              "       [1.95578288, 1.99570268, 0.81693747]])"
            ]
          },
          "metadata": {
            "tags": []
          },
          "execution_count": 9
        }
      ]
    },
    {
      "cell_type": "code",
      "metadata": {
        "id": "_NjlKIpfhnGy",
        "colab_type": "code",
        "colab": {}
      },
      "source": [
        ""
      ],
      "execution_count": null,
      "outputs": []
    }
  ]
}
