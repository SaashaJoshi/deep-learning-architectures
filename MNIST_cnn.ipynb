{
  "nbformat": 4,
  "nbformat_minor": 0,
  "metadata": {
    "colab": {
      "name": "MNIST_cnn.ipynb",
      "version": "0.3.2",
      "provenance": [],
      "private_outputs": true,
      "collapsed_sections": [],
      "include_colab_link": true
    },
    "kernelspec": {
      "name": "python3",
      "display_name": "Python 3"
    },
    "accelerator": "GPU"
  },
  "cells": [
    {
      "cell_type": "markdown",
      "metadata": {
        "id": "view-in-github",
        "colab_type": "text"
      },
      "source": [
        "<a href=\"https://colab.research.google.com/github/SaashaJoshi/keras-mnist-examples/blob/master/MNIST_cnn.ipynb\" target=\"_parent\"><img src=\"https://colab.research.google.com/assets/colab-badge.svg\" alt=\"Open In Colab\"/></a>"
      ]
    },
    {
      "cell_type": "code",
      "metadata": {
        "id": "v24oMg4AOU0C",
        "colab_type": "code",
        "colab": {}
      },
      "source": [
        "import tensorflow as tf\n",
        "from tensorflow import keras\n",
        "import numpy as np\n",
        "import matplotlib.pyplot as plt"
      ],
      "execution_count": 0,
      "outputs": []
    },
    {
      "cell_type": "code",
      "metadata": {
        "id": "5FoDBt_wOl1G",
        "colab_type": "code",
        "colab": {}
      },
      "source": [
        "from keras.datasets import mnist\n",
        "(train_images, train_labels), (test_images, test_labels)=mnist.load_data()"
      ],
      "execution_count": 0,
      "outputs": []
    },
    {
      "cell_type": "code",
      "metadata": {
        "id": "ajmhg5gfZU0v",
        "colab_type": "code",
        "colab": {}
      },
      "source": [
        "plt.imshow(test_images[10], cmap=plt.cm.binary)"
      ],
      "execution_count": 0,
      "outputs": []
    },
    {
      "cell_type": "code",
      "metadata": {
        "id": "oK6OduI7O1GE",
        "colab_type": "code",
        "colab": {}
      },
      "source": [
        "train_images=keras.utils.normalize(train_images, axis=1)\n",
        "test_images=keras.utils.normalize(test_images, axis=1)\n",
        "\n",
        "#train_images=train_images.astype('float32')/255\n",
        "#test_images=test_images.astype('float32')/255"
      ],
      "execution_count": 0,
      "outputs": []
    },
    {
      "cell_type": "code",
      "metadata": {
        "id": "kwgRCwu50HKA",
        "colab_type": "code",
        "colab": {}
      },
      "source": [
        "plt.imshow(test_images[10], cmap=plt.cm.binary)"
      ],
      "execution_count": 0,
      "outputs": []
    },
    {
      "cell_type": "code",
      "metadata": {
        "id": "SVd2esai0Es1",
        "colab_type": "code",
        "colab": {}
      },
      "source": [
        "train_images=train_images.reshape([-1, 28, 28, 1])\n",
        "test_images=test_images.reshape([-1, 28, 28, 1])"
      ],
      "execution_count": 0,
      "outputs": []
    },
    {
      "cell_type": "code",
      "metadata": {
        "id": "QUYgPsbDPACI",
        "colab_type": "code",
        "colab": {}
      },
      "source": [
        "model=keras.Sequential([\n",
        "    keras.layers.Conv2D(32, (3, 3), padding='same', activation=tf.nn.relu, input_shape=(28, 28, 1)), \n",
        "    keras.layers.MaxPooling2D((2, 2), strides=2), \n",
        "    keras.layers.Conv2D(64, (3, 3), padding='same', activation=tf.nn.relu), \n",
        "    keras.layers.MaxPooling2D((2, 2), strides=2), \n",
        "    keras.layers.Flatten(), \n",
        "    keras.layers.Dense(128, activation=tf.nn.relu), \n",
        "    keras.layers.Dense(10, activation=tf.nn.softmax)\n",
        "])"
      ],
      "execution_count": 0,
      "outputs": []
    },
    {
      "cell_type": "code",
      "metadata": {
        "id": "eHNvwLwMP7KN",
        "colab_type": "code",
        "colab": {}
      },
      "source": [
        "model.compile(loss='sparse_categorical_crossentropy', \n",
        "              optimizer='adam', \n",
        "              metrics=['accuracy'])"
      ],
      "execution_count": 0,
      "outputs": []
    },
    {
      "cell_type": "code",
      "metadata": {
        "id": "1pEcL8-KQMRY",
        "colab_type": "code",
        "colab": {}
      },
      "source": [
        "model.fit(train_images, train_labels, epochs=5, batch_size=64)    #verbose=1 (by default)"
      ],
      "execution_count": 0,
      "outputs": []
    },
    {
      "cell_type": "code",
      "metadata": {
        "id": "zGqjBih6QQWn",
        "colab_type": "code",
        "colab": {}
      },
      "source": [
        "test_loss, test_accuracy=model.evaluate(test_images, test_labels)\n",
        "print('Loss:', test_loss)\n",
        "print('Accuracy:', test_accuracy)"
      ],
      "execution_count": 0,
      "outputs": []
    },
    {
      "cell_type": "code",
      "metadata": {
        "id": "NDLP0zkTYc_c",
        "colab_type": "code",
        "colab": {}
      },
      "source": [
        "predictions=model.predict(test_images)"
      ],
      "execution_count": 0,
      "outputs": []
    },
    {
      "cell_type": "code",
      "metadata": {
        "id": "idogrZ5bYf9Q",
        "colab_type": "code",
        "colab": {}
      },
      "source": [
        "predictions[10]\n",
        "np.argmax(predictions[10])"
      ],
      "execution_count": 0,
      "outputs": []
    },
    {
      "cell_type": "code",
      "metadata": {
        "id": "7oBnnRNGYk6Y",
        "colab_type": "code",
        "colab": {}
      },
      "source": [
        "test_labels[10]"
      ],
      "execution_count": 0,
      "outputs": []
    }
  ]
}