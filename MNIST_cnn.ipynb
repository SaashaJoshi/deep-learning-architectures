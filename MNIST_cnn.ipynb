{
  "nbformat": 4,
  "nbformat_minor": 0,
  "metadata": {
    "colab": {
      "name": "MNIST_cnn.ipynb",
      "version": "0.3.2",
      "provenance": [],
      "private_outputs": true,
      "include_colab_link": true
    },
    "kernelspec": {
      "name": "python3",
      "display_name": "Python 3"
    },
    "accelerator": "GPU"
  },
  "cells": [
    {
      "cell_type": "markdown",
      "metadata": {
        "id": "view-in-github",
        "colab_type": "text"
      },
      "source": [
        "<a href=\"https://colab.research.google.com/github/SaashaJoshi/keras-mnist-examples/blob/master/MNIST_cnn.ipynb\" target=\"_parent\"><img src=\"https://colab.research.google.com/assets/colab-badge.svg\" alt=\"Open In Colab\"/></a>"
      ]
    },
    {
      "cell_type": "code",
      "metadata": {
        "id": "v24oMg4AOU0C",
        "colab_type": "code",
        "colab": {}
      },
      "source": [
        "import tensorflow as tf\n",
        "from tensorflow import keras\n",
        "import numpy as np\n",
        "import matplotlib.pyplot as plt"
      ],
      "execution_count": 0,
      "outputs": []
    },
    {
      "cell_type": "code",
      "metadata": {
        "id": "5FoDBt_wOl1G",
        "colab_type": "code",
        "colab": {}
      },
      "source": [
        "from keras.datasets import mnist\n",
        "(train_images, train_labels), (test_images, test_labels)=mnist.load_data()"
      ],
      "execution_count": 0,
      "outputs": []
    },
    {
      "cell_type": "code",
      "metadata": {
        "id": "oK6OduI7O1GE",
        "colab_type": "code",
        "colab": {}
      },
      "source": [
        "train_images=train_images.reshape([-1, 28, 28, 1])\n",
        "test_images=test_images.reshape([-1, 28, 28, 1])\n",
        "\n",
        "train_images=train_images.astype('float32')/255\n",
        "test_images=test_images.astype('float32')/255"
      ],
      "execution_count": 0,
      "outputs": []
    },
    {
      "cell_type": "code",
      "metadata": {
        "id": "QUYgPsbDPACI",
        "colab_type": "code",
        "colab": {}
      },
      "source": [
        "model=keras.Sequential([\n",
        "    keras.layers.Conv2D(32, (3, 3), padding='same', activation=tf.nn.relu, input_shape=(28, 28, 1)), \n",
        "    keras.layers.MaxPooling2D((2, 2), strides=2), \n",
        "    keras.layers.Conv2D(64, (3, 3), padding='same', activation=tf.nn.relu), \n",
        "    keras.layers.MaxPooling2D((2, 2), strides=2), \n",
        "    keras.layers.Flatten(), \n",
        "    keras.layers.Dense(128, activation=tf.nn.relu), \n",
        "    keras.layers.Dense(10, activation=tf.nn.softmax)\n",
        "])"
      ],
      "execution_count": 0,
      "outputs": []
    },
    {
      "cell_type": "code",
      "metadata": {
        "id": "eHNvwLwMP7KN",
        "colab_type": "code",
        "colab": {}
      },
      "source": [
        "model.compile(loss='sparse_categorical_crossentropy', \n",
        "              optimizer='adam', \n",
        "              metrics=['accuracy'])"
      ],
      "execution_count": 0,
      "outputs": []
    },
    {
      "cell_type": "code",
      "metadata": {
        "id": "1pEcL8-KQMRY",
        "colab_type": "code",
        "colab": {
          "base_uri": "https://localhost:8080/",
          "height": 204
        },
        "outputId": "28db5bb4-b1c4-4fe6-a095-7c975589abf9"
      },
      "source": [
        "model.fit(train_images, train_labels, epochs=5, batch_size=64)    #verbose=1 (by default)"
      ],
      "execution_count": 8,
      "outputs": [
        {
          "output_type": "stream",
          "text": [
            "Epoch 1/5\n",
            "60000/60000 [==============================] - 8s 126us/sample - loss: 0.1458 - acc: 0.9560\n",
            "Epoch 2/5\n",
            "60000/60000 [==============================] - 4s 64us/sample - loss: 0.0435 - acc: 0.9862\n",
            "Epoch 3/5\n",
            "60000/60000 [==============================] - 4s 64us/sample - loss: 0.0292 - acc: 0.9907\n",
            "Epoch 4/5\n",
            "60000/60000 [==============================] - 4s 64us/sample - loss: 0.0215 - acc: 0.9930\n",
            "Epoch 5/5\n",
            "60000/60000 [==============================] - 4s 65us/sample - loss: 0.0161 - acc: 0.9947\n"
          ],
          "name": "stdout"
        },
        {
          "output_type": "execute_result",
          "data": {
            "text/plain": [
              "<tensorflow.python.keras.callbacks.History at 0x7f066a814240>"
            ]
          },
          "metadata": {
            "tags": []
          },
          "execution_count": 8
        }
      ]
    },
    {
      "cell_type": "code",
      "metadata": {
        "id": "zGqjBih6QQWn",
        "colab_type": "code",
        "colab": {
          "base_uri": "https://localhost:8080/",
          "height": 68
        },
        "outputId": "d9e6e0d4-c1c4-497c-c8c1-5f46cd1745da"
      },
      "source": [
        "test_loss, test_accuracy=model.evaluate(test_images, test_labels)\n",
        "print('Loss:', test_loss)\n",
        "print('Accuracy:', test_accuracy)"
      ],
      "execution_count": 9,
      "outputs": [
        {
          "output_type": "stream",
          "text": [
            "10000/10000 [==============================] - 1s 58us/sample - loss: 0.0241 - acc: 0.9921\n",
            "Loss: 0.02407963936282322\n",
            "Accuracy: 0.9921\n"
          ],
          "name": "stdout"
        }
      ]
    }
  ]
}