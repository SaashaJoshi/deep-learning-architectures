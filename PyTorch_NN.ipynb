{
  "nbformat": 4,
  "nbformat_minor": 0,
  "metadata": {
    "colab": {
      "name": "PyTorch_NN.ipynb",
      "provenance": [],
      "collapsed_sections": [],
      "authorship_tag": "ABX9TyN6/unhoVaOTFbQPanByquA",
      "include_colab_link": true
    },
    "kernelspec": {
      "name": "python3",
      "display_name": "Python 3"
    }
  },
  "cells": [
    {
      "cell_type": "markdown",
      "metadata": {
        "id": "view-in-github",
        "colab_type": "text"
      },
      "source": [
        "<a href=\"https://colab.research.google.com/github/SaashaJoshi/tf-keras-examples/blob/master/PyTorch_NN.ipynb\" target=\"_parent\"><img src=\"https://colab.research.google.com/assets/colab-badge.svg\" alt=\"Open In Colab\"/></a>"
      ]
    },
    {
      "cell_type": "code",
      "metadata": {
        "id": "1z1i-JuUHkHl",
        "colab_type": "code",
        "colab": {}
      },
      "source": [
        "import torch"
      ],
      "execution_count": null,
      "outputs": []
    },
    {
      "cell_type": "code",
      "metadata": {
        "id": "A2KC5RbpHo11",
        "colab_type": "code",
        "colab": {}
      },
      "source": [
        "def sigmoid_activation(x):\n",
        "  return 1/(1+ torch.exp(-x))"
      ],
      "execution_count": null,
      "outputs": []
    },
    {
      "cell_type": "code",
      "metadata": {
        "id": "CAekcibVHwgg",
        "colab_type": "code",
        "colab": {
          "base_uri": "https://localhost:8080/",
          "height": 68
        },
        "outputId": "c0ca0990-63f3-488c-877b-5687fbd27999"
      },
      "source": [
        "torch.manual_seed(100)  # Setting seed to produce random numbers\n",
        "\n",
        "# Weights:(1xn) Inputs: (nx1) Bias:(1x1)\n",
        "inputs = torch.randn((1, 5))    # rand-n for random normal variables\n",
        "print(inputs)\n",
        "\n",
        "weights = torch.randn_like(inputs)\n",
        "print(weights)\n",
        "\n",
        "bias = torch.randn((1, 1))\n",
        "print(bias)\n",
        "\n",
        "# The randn feature generates random numbers which form a normal distribution with variance 1 and mean 0. This distribution is also called Standard Normal Distribution."
      ],
      "execution_count": null,
      "outputs": [
        {
          "output_type": "stream",
          "text": [
            "tensor([[ 0.3607, -0.2859, -0.3938,  0.2429, -1.3833]])\n",
            "tensor([[-2.3134, -0.3172, -0.8660,  1.7482, -0.2759]])\n",
            "tensor([[-0.9755]])\n"
          ],
          "name": "stdout"
        }
      ]
    },
    {
      "cell_type": "code",
      "metadata": {
        "id": "DBHFc6oEIHzj",
        "colab_type": "code",
        "colab": {
          "base_uri": "https://localhost:8080/",
          "height": 34
        },
        "outputId": "05fdb0cb-10b6-4f9d-eda9-4b433c43f927"
      },
      "source": [
        "inputs.resize_((5, 1))    # Resize in-place i.e. changes the mentioned tensor\n",
        "\n",
        "# Or use inputs.reshape(5, 1)  # This returns a new tensor\n",
        "# Or inputs.view(5, 1)         # This returns a new tensor but doesn't mess with the data\n",
        "\n",
        "# Tip: Dot Product is Commutative\n",
        "y = sigmoid_activation(torch.mm(weights, inputs) + bias)\n",
        "print(y)"
      ],
      "execution_count": null,
      "outputs": [
        {
          "output_type": "stream",
          "text": [
            "tensor([[0.3608]])\n"
          ],
          "name": "stdout"
        }
      ]
    },
    {
      "cell_type": "code",
      "metadata": {
        "id": "S6LZKVLPRBzh",
        "colab_type": "code",
        "colab": {
          "base_uri": "https://localhost:8080/",
          "height": 34
        },
        "outputId": "7480240a-3aee-4cc3-ef92-b67eb707f6be"
      },
      "source": [
        "wx = torch.mm(weights, inputs)\n",
        "y_dash = sigmoid_activation(wx + bias)\n",
        "print(y_dash)"
      ],
      "execution_count": null,
      "outputs": [
        {
          "output_type": "stream",
          "text": [
            "tensor([[0.3608]])\n"
          ],
          "name": "stdout"
        }
      ]
    },
    {
      "cell_type": "code",
      "metadata": {
        "id": "mlKmxmbDRWd4",
        "colab_type": "code",
        "colab": {
          "base_uri": "https://localhost:8080/",
          "height": 34
        },
        "outputId": "5a4cc0a3-5a8a-44c5-b4d8-90828e3d1bdf"
      },
      "source": [
        "wx = torch.sum(weights*inputs)\n",
        "y_dash = sigmoid_activation(wx + bias)\n",
        "print(y_dash)   # Disparity!! Check this!"
      ],
      "execution_count": null,
      "outputs": [
        {
          "output_type": "stream",
          "text": [
            "tensor([[0.8786]])\n"
          ],
          "name": "stdout"
        }
      ]
    },
    {
      "cell_type": "code",
      "metadata": {
        "id": "QooGkadcRhF2",
        "colab_type": "code",
        "colab": {
          "base_uri": "https://localhost:8080/",
          "height": 34
        },
        "outputId": "ff923ade-0a3c-4e39-bb09-256634ab1fa8"
      },
      "source": [
        "y = sigmoid_activation(torch.mm(inputs, weights.view(5, 1)) + bias)   # Commutative property here!\n",
        "print(y)"
      ],
      "execution_count": null,
      "outputs": [
        {
          "output_type": "stream",
          "text": [
            "tensor([[0.3608]])\n"
          ],
          "name": "stdout"
        }
      ]
    },
    {
      "cell_type": "code",
      "metadata": {
        "id": "BxhPrbFUR-B3",
        "colab_type": "code",
        "colab": {}
      },
      "source": [
        "torch.manual_seed(100)\n",
        "\n",
        "# 2 Layered NN with 1 hidden layer consisting of 2 hidden neurons and 1 output layer consisting of 1 neuron.\n",
        "\n",
        "# Hidden Layer 1: W(2x3) I(3x1) B(2x1)\n",
        "# Output Layer: W(1x2) I(2x1) B(1x1)\n",
        "X = torch.randn((3, 1))     # Inputs\n",
        "\n",
        "n_inputs = X.shape[0]\n",
        "n_hidden1_neurons = 2\n",
        "n_output_neurons = 1\n",
        "\n",
        "# Weights\n",
        "W1 = torch.randn((n_hidden1_neurons, n_inputs))    # Matrix of weights of hidden layer 1 i.e. [w11_T]\n",
        "                                                                                  #           [w12_T]       \n",
        "W2 = torch.randn((n_output_neurons, n_hidden1_neurons))               # Matrix of weights of output layer i.e. [w21_T]\n",
        "                                                                                                     #         [w22_T]      \n",
        "\n",
        "# Bias\n",
        "B1 = torch.randn((n_hidden1_neurons, 1))\n",
        "B2 = torch.randn((n_output_neurons, 1))"
      ],
      "execution_count": null,
      "outputs": []
    },
    {
      "cell_type": "code",
      "metadata": {
        "id": "wsnq99wrp3un",
        "colab_type": "code",
        "colab": {
          "base_uri": "https://localhost:8080/",
          "height": 34
        },
        "outputId": "88df5860-5174-4537-ebdd-bcd1ffe6ba79"
      },
      "source": [
        "# Solution\n",
        "Z1 = torch.mm(W1, X) + B1\n",
        "A1 = sigmoid_activation(Z1)\n",
        "\n",
        "Z2 = torch.mm(W2, A1) + B2\n",
        "A2 = sigmoid_activation(Z2)\n",
        "\n",
        "final_output = A2\n",
        "print(final_output)"
      ],
      "execution_count": null,
      "outputs": [
        {
          "output_type": "stream",
          "text": [
            "tensor([[0.2509]])\n"
          ],
          "name": "stdout"
        }
      ]
    },
    {
      "cell_type": "code",
      "metadata": {
        "id": "68Y8k4VatlEb",
        "colab_type": "code",
        "colab": {}
      },
      "source": [
        ""
      ],
      "execution_count": null,
      "outputs": []
    },
    {
      "cell_type": "code",
      "metadata": {
        "id": "UJrNdpoyt1XG",
        "colab_type": "code",
        "colab": {}
      },
      "source": [
        ""
      ],
      "execution_count": null,
      "outputs": []
    }
  ]
}