{
  "nbformat": 4,
  "nbformat_minor": 0,
  "metadata": {
    "colab": {
      "name": "CelsiustoFahrenheit.ipynb",
      "version": "0.3.2",
      "provenance": [],
      "private_outputs": true,
      "collapsed_sections": [],
      "include_colab_link": true
    },
    "kernelspec": {
      "name": "python3",
      "display_name": "Python 3"
    },
    "accelerator": "GPU"
  },
  "cells": [
    {
      "cell_type": "markdown",
      "metadata": {
        "id": "view-in-github",
        "colab_type": "text"
      },
      "source": [
        "<a href=\"https://colab.research.google.com/github/SaashaJoshi/keras-celsius-to-fahrenheit/blob/master/CelsiustoFahrenheit.ipynb\" target=\"_parent\"><img src=\"https://colab.research.google.com/assets/colab-badge.svg\" alt=\"Open In Colab\"/></a>"
      ]
    },
    {
      "cell_type": "code",
      "metadata": {
        "id": "2rcbQaTxMWPn",
        "colab_type": "code",
        "colab": {}
      },
      "source": [
        "import tensorflow as tf\n",
        "from tensorflow import keras\n",
        "import numpy as np\n",
        "import matplotlib.pyplot as plt"
      ],
      "execution_count": 0,
      "outputs": []
    },
    {
      "cell_type": "code",
      "metadata": {
        "id": "QEvmbY1aMgh2",
        "colab_type": "code",
        "colab": {}
      },
      "source": [
        "celsius    = np.array([-40, -10,  0,  8, 15, 22,  38],  dtype=float)\n",
        "fahrenheit = np.array([-40,  14, 32, 46, 59, 72, 100],  dtype=float)"
      ],
      "execution_count": 0,
      "outputs": []
    },
    {
      "cell_type": "code",
      "metadata": {
        "id": "BKWn9sH0PH5O",
        "colab_type": "code",
        "colab": {}
      },
      "source": [
        "l0=keras.layers.Dense(units=1, input_shape=[1])\n",
        "model=keras.Sequential([\n",
        "    keras.layers.Dense(units=1, input_shape=[1])\n",
        "])"
      ],
      "execution_count": 0,
      "outputs": []
    },
    {
      "cell_type": "code",
      "metadata": {
        "id": "kFKcAF6cPkvE",
        "colab_type": "code",
        "colab": {}
      },
      "source": [
        "model.compile(loss='mean_squared_error', optimizer=keras.optimizers.Adam(0.1))"
      ],
      "execution_count": 0,
      "outputs": []
    },
    {
      "cell_type": "code",
      "metadata": {
        "id": "Fbz2qxUnQQ6C",
        "colab_type": "code",
        "colab": {}
      },
      "source": [
        "history=model.fit(celsius, fahrenheit, epochs=500, verbose=False)\n",
        "print(\"Model Trained Successfully!\")"
      ],
      "execution_count": 0,
      "outputs": []
    },
    {
      "cell_type": "code",
      "metadata": {
        "id": "HSV50fsXQtG5",
        "colab_type": "code",
        "colab": {}
      },
      "source": [
        "plt.xlabel('Epoch Number')\n",
        "plt.ylabel('Loss Magnitude')\n",
        "plt.plot(history.history['loss'])"
      ],
      "execution_count": 0,
      "outputs": []
    },
    {
      "cell_type": "code",
      "metadata": {
        "id": "ws5aHM6tRYLE",
        "colab_type": "code",
        "colab": {}
      },
      "source": [
        "sample=model.predict([100.0])\n",
        "print(sample)"
      ],
      "execution_count": 0,
      "outputs": []
    },
    {
      "cell_type": "code",
      "metadata": {
        "colab_type": "code",
        "id": "lFFFLkYSR_UB",
        "colab": {}
      },
      "source": [
        "print(l0.get_weights())"
      ],
      "execution_count": 0,
      "outputs": []
    }
  ]
}