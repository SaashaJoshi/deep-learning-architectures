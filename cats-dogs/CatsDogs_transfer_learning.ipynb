{
  "nbformat": 4,
  "nbformat_minor": 0,
  "metadata": {
    "colab": {
      "name": "CatsDogs_transfer_learning.ipynb",
      "version": "0.3.2",
      "provenance": [],
      "private_outputs": true,
      "include_colab_link": true
    },
    "kernelspec": {
      "name": "python3",
      "display_name": "Python 3"
    },
    "accelerator": "GPU"
  },
  "cells": [
    {
      "cell_type": "markdown",
      "metadata": {
        "id": "view-in-github",
        "colab_type": "text"
      },
      "source": [
        "<a href=\"https://colab.research.google.com/github/SaashaJoshi/cats-dogs-classification/blob/master/CatsDogs_transfer_learning.ipynb\" target=\"_parent\"><img src=\"https://colab.research.google.com/assets/colab-badge.svg\" alt=\"Open In Colab\"/></a>"
      ]
    },
    {
      "cell_type": "code",
      "metadata": {
        "id": "twp5FWsj_5XS",
        "colab_type": "code",
        "colab": {}
      },
      "source": [
        "import os\n",
        "import tensorflow as tf\n",
        "from tensorflow import keras\n",
        "from keras import layers\n",
        "from keras import Model\n",
        "from keras.optimizers import RMSprop"
      ],
      "execution_count": 0,
      "outputs": []
    },
    {
      "cell_type": "code",
      "metadata": {
        "id": "PecBiqdfAOQy",
        "colab_type": "code",
        "colab": {}
      },
      "source": [
        "!wget --no-check-certificate \\\n",
        "    https://storage.googleapis.com/mledu-datasets/inception_v3_weights_tf_dim_ordering_tf_kernels_notop.h5 \\\n",
        "    -O /tmp/inception_v3_weights_tf_dim_ordering_tf_kernels_notop.h5"
      ],
      "execution_count": 0,
      "outputs": []
    },
    {
      "cell_type": "code",
      "metadata": {
        "id": "_MqurjSEAZ-A",
        "colab_type": "code",
        "colab": {}
      },
      "source": [
        "from keras.applications.inception_v3 import InceptionV3\n",
        "local_weights_file='/tmp/inception_v3_weights_tf_dim_ordering_tf_kernels_notop.h5'\n",
        "\n",
        "pre_trained_model=InceptionV3(input_shape=(150, 150, 3), \n",
        "                             include_top=False, \n",
        "                             weights=None)\n",
        "\n",
        "pre_trained_model.load_weights(local_weights_file)\n",
        "\n",
        "for layer in pre_trained_model.layers:\n",
        "  layer.trainable=False"
      ],
      "execution_count": 0,
      "outputs": []
    },
    {
      "cell_type": "code",
      "metadata": {
        "id": "KMsE1cIXAaXb",
        "colab_type": "code",
        "colab": {}
      },
      "source": [
        "last_layer=pre_trained_model.get_layer('mixed7')\n",
        "print('Last layer shape: ', last_layer.output_shape)\n",
        "last_output=last_layer.output"
      ],
      "execution_count": 0,
      "outputs": []
    },
    {
      "cell_type": "code",
      "metadata": {
        "id": "UJlT7fdkAcKN",
        "colab_type": "code",
        "colab": {}
      },
      "source": [
        "x=layers.Flatten()(last_output)\n",
        "x=layers.Dense(1024, activation='relu')(x)\n",
        "x=layers.Dropout(0.2)(x)\n",
        "x=layers.Dense(1, activation='sigmoid')(x)\n",
        "\n",
        "model=Model(pre_trained_model.input, x)"
      ],
      "execution_count": 0,
      "outputs": []
    },
    {
      "cell_type": "code",
      "metadata": {
        "id": "G6P_R8kTAeTa",
        "colab_type": "code",
        "colab": {}
      },
      "source": [
        "model.compile(optimizer=RMSprop(lr=0.0001), \n",
        "             loss='binary_crossentropy', \n",
        "             metrics=['accuracy'])"
      ],
      "execution_count": 0,
      "outputs": []
    },
    {
      "cell_type": "code",
      "metadata": {
        "id": "2laXcX9qAguJ",
        "colab_type": "code",
        "colab": {}
      },
      "source": [
        "_URL='https://storage.googleapis.com/mledu-datasets/cats_and_dogs_filtered.zip'\n",
        "zip_dir=keras.utils.get_file('cats_and_dogs_filtered.zip', origin=_URL, extract=True)"
      ],
      "execution_count": 0,
      "outputs": []
    },
    {
      "cell_type": "code",
      "metadata": {
        "id": "iOEmk9E6ehRm",
        "colab_type": "code",
        "colab": {}
      },
      "source": [
        "base_dir=os.path.join(os.path.dirname(zip_dir), 'cats_and_dogs_filtered')\n",
        "train_dir=os.path.join(base_dir, 'train')\n",
        "val_dir=os.path.join(base_dir, 'validation')\n",
        "\n",
        "train_cats=os.path.join(train_dir, 'cats')\n",
        "train_dogs=os.path.join(train_dir, 'dogs')\n",
        "val_cats=os.path.join(val_dir, 'cats')\n",
        "val_dogs=os.path.join(val_dir, 'dogs')"
      ],
      "execution_count": 0,
      "outputs": []
    },
    {
      "cell_type": "code",
      "metadata": {
        "id": "wqKLWeTxeht4",
        "colab_type": "code",
        "colab": {}
      },
      "source": [
        "train_images_gen=keras.preprocessing.image.ImageDataGenerator(rescale=1./255, \n",
        "                                                             rotation_range=40, \n",
        "                                                             width_shift_range=0.2, \n",
        "                                                             height_shift_range=0.2, \n",
        "                                                             shear_range=0.2, \n",
        "                                                             zoom_range=0.2, \n",
        "                                                             horizontal_flip=True, \n",
        "                                                             fill_mode='nearest')\n",
        "\n",
        "val_images_gen=keras.preprocessing.image.ImageDataGenerator(rescale=1./255)"
      ],
      "execution_count": 0,
      "outputs": []
    },
    {
      "cell_type": "code",
      "metadata": {
        "id": "qlI1FaUEeq4W",
        "colab_type": "code",
        "colab": {}
      },
      "source": [
        "train_data_gen=train_images_gen.flow_from_directory(batch_size=32, \n",
        "                                                   directory=train_dir, \n",
        "                                                   shuffle=True, \n",
        "                                                   target_size=(150, 150), \n",
        "                                                   class_mode='binary')\n",
        "\n",
        "val_data_gen=val_images_gen.flow_from_directory(batch_size=32, \n",
        "                                                   directory=val_dir, \n",
        "                                                   shuffle=False, \n",
        "                                                   target_size=(150, 150), \n",
        "                                                   class_mode='binary')"
      ],
      "execution_count": 0,
      "outputs": []
    },
    {
      "cell_type": "code",
      "metadata": {
        "id": "8oW3lsK3etN-",
        "colab_type": "code",
        "colab": {}
      },
      "source": [
        "history=model.fit_generator(train_data_gen, \n",
        "                            epochs=20, \n",
        "                            steps_per_epoch=100, \n",
        "                            validation_data=val_data_gen, \n",
        "                            validation_steps=50)"
      ],
      "execution_count": 0,
      "outputs": []
    },
    {
      "cell_type": "code",
      "metadata": {
        "id": "hpKuKNAKfCtv",
        "colab_type": "code",
        "colab": {}
      },
      "source": [
        "import matplotlib.pyplot as plt\n",
        "\n",
        "acc = history.history['acc']\n",
        "val_acc = history.history['val_acc']\n",
        "loss = history.history['loss']\n",
        "val_loss = history.history['val_loss']\n",
        "epochs_range=range(len(acc))  #epochs_range=range(20)\n",
        "\n",
        "plt.plot(epochs_range, acc, label='Training Accuracy')\n",
        "plt.plot(epochs_range, val_acc, label='Validation Accuracy')\n",
        "plt.legend(loc='lower right')\n",
        "plt.show()"
      ],
      "execution_count": 0,
      "outputs": []
    },
    {
      "cell_type": "code",
      "metadata": {
        "id": "5Ld_8hptgW_8",
        "colab_type": "code",
        "colab": {}
      },
      "source": [
        ""
      ],
      "execution_count": 0,
      "outputs": []
    }
  ]
}