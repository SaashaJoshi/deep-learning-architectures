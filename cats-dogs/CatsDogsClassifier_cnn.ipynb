{
  "nbformat": 4,
  "nbformat_minor": 0,
  "metadata": {
    "colab": {
      "name": "CatsDogsClassifier_cnn.ipynb",
      "version": "0.3.2",
      "provenance": [],
      "private_outputs": true,
      "collapsed_sections": [],
      "include_colab_link": true
    },
    "kernelspec": {
      "name": "python3",
      "display_name": "Python 3"
    },
    "accelerator": "GPU"
  },
  "cells": [
    {
      "cell_type": "markdown",
      "metadata": {
        "id": "view-in-github",
        "colab_type": "text"
      },
      "source": [
        "<a href=\"https://colab.research.google.com/github/SaashaJoshi/cats-dogs-classification/blob/master/CatsDogsClassifier_cnn.ipynb\" target=\"_parent\"><img src=\"https://colab.research.google.com/assets/colab-badge.svg\" alt=\"Open In Colab\"/></a>"
      ]
    },
    {
      "cell_type": "code",
      "metadata": {
        "id": "HXTowJqc5wsW",
        "colab_type": "code",
        "colab": {}
      },
      "source": [
        "import os\n",
        "import tensorflow as tf\n",
        "from tensorflow import keras\n",
        "import numpy as np\n",
        "import matplotlib.pyplot as plt\n",
        "from keras.layers import Conv2D, Dense, Flatten, MaxPooling2D"
      ],
      "execution_count": 0,
      "outputs": []
    },
    {
      "cell_type": "code",
      "metadata": {
        "id": "OqzP5hDm6wYl",
        "colab_type": "code",
        "colab": {}
      },
      "source": [
        "_URL='https://storage.googleapis.com/mledu-datasets/cats_and_dogs_filtered.zip'\n",
        "zip_dir=keras.utils.get_file('cats_and_dogs_filtered.zip', origin=_URL, extract=True)"
      ],
      "execution_count": 0,
      "outputs": []
    },
    {
      "cell_type": "code",
      "metadata": {
        "id": "r_yr17fUymf5",
        "colab_type": "code",
        "colab": {}
      },
      "source": [
        "base_dir=os.path.join(os.path.dirname(zip_dir), 'cats_and_dogs_filtered')\n",
        "print(os.path.dirname(zip_dir))\n",
        "\n",
        "train_dir=os.path.join(base_dir, 'train')\n",
        "val_dir=os.path.join(base_dir, 'validation')\n",
        "\n",
        "train_cats=os.path.join(train_dir, 'cats')\n",
        "train_dogs=os.path.join(train_dir, 'dogs')\n",
        "\n",
        "val_cats=os.path.join(val_dir, 'cats')\n",
        "val_dogs=os.path.join(val_dir, 'dogs')"
      ],
      "execution_count": 0,
      "outputs": []
    },
    {
      "cell_type": "code",
      "metadata": {
        "id": "BMkO0-gR0E1B",
        "colab_type": "code",
        "colab": {}
      },
      "source": [
        "print(len(os.listdir(train_dir)))\n",
        "print(len(os.listdir(val_dir)))\n",
        "\n",
        "print(len(os.listdir(train_cats)))\n",
        "print(len(os.listdir(train_dogs)))\n",
        "\n",
        "print(len(os.listdir(val_cats)))\n",
        "print(len(os.listdir(val_dogs)))"
      ],
      "execution_count": 0,
      "outputs": []
    },
    {
      "cell_type": "code",
      "metadata": {
        "id": "bMtF2zgrOnkS",
        "colab_type": "code",
        "colab": {}
      },
      "source": [
        "train_cat_names=os.listdir(train_cats)\n",
        "train_dog_names=os.listdir(train_dogs)\n",
        "\n",
        "print(train_cat_names[:10])\n",
        "print(train_dog_names[:10])"
      ],
      "execution_count": 0,
      "outputs": []
    },
    {
      "cell_type": "code",
      "metadata": {
        "id": "OWi-J5qH1K-H",
        "colab_type": "code",
        "colab": {}
      },
      "source": [
        "train_images_gen=keras.preprocessing.image.ImageDataGenerator(rescale=1./255)\n",
        "val_images_gen=keras.preprocessing.image.ImageDataGenerator(rescale=1./255)"
      ],
      "execution_count": 0,
      "outputs": []
    },
    {
      "cell_type": "code",
      "metadata": {
        "id": "m6rFghZ_3Ynp",
        "colab_type": "code",
        "colab": {}
      },
      "source": [
        "train_data_gen=train_images_gen.flow_from_directory(batch_size=20, \n",
        "                                                   directory=train_dir, \n",
        "                                                   shuffle=True, \n",
        "                                                   target_size=(150, 150), \n",
        "                                                   class_mode='binary')"
      ],
      "execution_count": 0,
      "outputs": []
    },
    {
      "cell_type": "code",
      "metadata": {
        "id": "QIyKAlqd4V4r",
        "colab_type": "code",
        "colab": {}
      },
      "source": [
        "val_data_gen=val_images_gen.flow_from_directory(batch_size=20, \n",
        "                                                   directory=val_dir, \n",
        "                                                   shuffle=False, \n",
        "                                                   target_size=(150, 150), \n",
        "                                                   class_mode='binary')"
      ],
      "execution_count": 0,
      "outputs": []
    },
    {
      "cell_type": "code",
      "metadata": {
        "id": "r78LGGQD5fR4",
        "colab_type": "code",
        "colab": {}
      },
      "source": [
        "model=keras.Sequential([\n",
        "    keras.layers.Conv2D(32, (3, 3), activation=tf.nn.relu, input_shape=(150, 150, 3)), \n",
        "    keras.layers.MaxPooling2D(2, 2), \n",
        "    \n",
        "    keras.layers.Conv2D(64, (3, 3), activation=tf.nn.relu), \n",
        "    keras.layers.MaxPooling2D(2, 2), \n",
        "    \n",
        "    keras.layers.Conv2D(128, (3, 3), activation=tf.nn.relu), \n",
        "    keras.layers.MaxPooling2D(2, 2), \n",
        "    \n",
        "    keras.layers.Conv2D(128, (3, 3), activation=tf.nn.relu), \n",
        "    keras.layers.MaxPooling2D(2, 2), \n",
        "    \n",
        "    keras.layers.Flatten(), \n",
        "    keras.layers.Dense(512, activation=tf.nn.relu), \n",
        "    keras.layers.Dense(1, activation=tf.nn.sigmoid)\n",
        "])"
      ],
      "execution_count": 0,
      "outputs": []
    },
    {
      "cell_type": "code",
      "metadata": {
        "id": "Z0IoDp1xTTWr",
        "colab_type": "code",
        "colab": {}
      },
      "source": [
        "model.compile(optimizer='adam', \n",
        "             loss='binary_crossentropy', \n",
        "             metrics=['accuracy'])\n",
        "'''\n",
        "from keras.optimizers import RMSprop\n",
        "model.compile(optimizer=RMSprop(lr=0.001), \n",
        "             loss='binary_crossentropy', \n",
        "             metrics=['acc'])\n",
        "'''"
      ],
      "execution_count": 0,
      "outputs": []
    },
    {
      "cell_type": "code",
      "metadata": {
        "id": "Gf_ItPAwXIK1",
        "colab_type": "code",
        "colab": {}
      },
      "source": [
        "model.summary()"
      ],
      "execution_count": 0,
      "outputs": []
    },
    {
      "cell_type": "code",
      "metadata": {
        "id": "Qq7ghJi_XLNE",
        "colab_type": "code",
        "colab": {}
      },
      "source": [
        "history=model.fit_generator(train_data_gen, steps_per_epoch=100, epochs=5, validation_data=val_data_gen)"
      ],
      "execution_count": 0,
      "outputs": []
    },
    {
      "cell_type": "code",
      "metadata": {
        "id": "TCGKUdCGXwPM",
        "colab_type": "code",
        "colab": {}
      },
      "source": [
        "acc=history.history['acc']\n",
        "val_acc=history.history['val_acc']\n",
        "\n",
        "loss=history.history['loss']\n",
        "val_loss=history.history['val_loss']\n",
        "\n",
        "epochs_range=range(5)"
      ],
      "execution_count": 0,
      "outputs": []
    },
    {
      "cell_type": "code",
      "metadata": {
        "id": "qahok9hDZPhl",
        "colab_type": "code",
        "colab": {}
      },
      "source": [
        "plt.plot(epochs_range, acc, label='Training Accuracy')\n",
        "plt.plot(epochs_range, val_acc, label='Validation Accuracy')\n",
        "plt.legend(loc='lower right')\n",
        "plt.show()"
      ],
      "execution_count": 0,
      "outputs": []
    },
    {
      "cell_type": "code",
      "metadata": {
        "id": "xQuzbUCkZaMg",
        "colab_type": "code",
        "colab": {}
      },
      "source": [
        "plt.plot(epochs_range, loss, label='Training Loss')\n",
        "plt.plot(epochs_range, val_loss, label='Validation Loss')\n",
        "plt.legend(loc='lower left')\n",
        "plt.show()"
      ],
      "execution_count": 0,
      "outputs": []
    },
    {
      "cell_type": "code",
      "metadata": {
        "id": "M85jd9s-QjKO",
        "colab_type": "code",
        "colab": {}
      },
      "source": [
        ""
      ],
      "execution_count": 0,
      "outputs": []
    }
  ]
}